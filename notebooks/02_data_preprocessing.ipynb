{
 "cells": [
  {
   "cell_type": "markdown",
   "metadata": {},
   "source": [
    "<hr style=\"margin-bottom: 50px;\">\n",
    "<center>\n",
    "    <h1 style=\"margin-top: 0; margin-bottom: 0;\">\n",
    "        <b><u>Prétraitement des données</u></b>\n",
    "    </h1>\n",
    "</center>\n",
    "<hr style=\"margin-top: 50px;\">"
   ]
  },
  {
   "cell_type": "markdown",
   "metadata": {},
   "source": [
    "# <b>1. Configuration du notebook"
   ]
  },
  {
   "cell_type": "code",
   "execution_count": 6,
   "metadata": {},
   "outputs": [],
   "source": [
    "# Imports des modules du projet\n",
    "import config, src\n",
    "\n",
    "# Imports classiques\n",
    "import numpy as np\n",
    "import pandas as pd\n",
    "\n",
    "# Imports spécifiques\n",
    "import holidays"
   ]
  },
  {
   "cell_type": "code",
   "execution_count": null,
   "metadata": {},
   "outputs": [],
   "source": [
    "# Chargement des données brutes\n",
    "data = src.load_data(config.RAW_DATA_FILE)\n",
    "\n",
    "# Conversion des dates au format datetime\n",
    "data['date'] = pd.to_datetime(data['date'])"
   ]
  },
  {
   "cell_type": "code",
   "execution_count": 8,
   "metadata": {},
   "outputs": [],
   "source": [
    "rename_dict = {\n",
    "    \"date\": \"Date\",\n",
    "    \"Appliances\": \"Energy\",\n",
    "    \"lights\": \"Lights\",\n",
    "    \"T1\": \"Kitchen_T\",\n",
    "    \"RH_1\": \"Kitchen_H\",\n",
    "    \"T2\": \"Living_T\",\n",
    "    \"RH_2\": \"Living_H\",\n",
    "    \"T3\": \"Laundry_T\",\n",
    "    \"RH_3\": \"Laundry_H\",\n",
    "    \"T4\": \"Office_T\",\n",
    "    \"RH_4\": \"Office_H\",\n",
    "    \"T5\": \"Bath_T\",\n",
    "    \"RH_5\": \"Bath_H\",\n",
    "    \"T6\": \"Outside_T\",\n",
    "    \"RH_6\": \"Outside_H\",\n",
    "    \"T7\": \"Ironing_T\",\n",
    "    \"RH_7\": \"Ironing_H\",\n",
    "    \"T8\": \"TeenRoom_T\",\n",
    "    \"RH_8\": \"TeenRoom_H\",\n",
    "    \"T9\": \"ParentsRoom_T\",\n",
    "    \"RH_9\": \"ParentsRoom_H\",\n",
    "    \"T_out\": \"Weather_T\",\n",
    "    \"Press_mm_hg\": \"Weather_P\",\n",
    "    \"RH_out\": \"Weather_H\",\n",
    "    \"Windspeed\": \"Weather_WindSpeed\",\n",
    "    \"Visibility\": \"Weather_Visibility\",\n",
    "    \"Tdewpoint\": \"Weather_Dewpoint\",\n",
    "    \"rv1\": \"RandVar_1\",\n",
    "    \"rv2\": \"RandVar_2\"\n",
    "}\n",
    "\n",
    "data.rename(columns=rename_dict, inplace=True)"
   ]
  },
  {
   "cell_type": "code",
   "execution_count": null,
   "metadata": {},
   "outputs": [],
   "source": [
    "src.save_data(data, 'renamed_data')"
   ]
  },
  {
   "cell_type": "code",
   "execution_count": null,
   "metadata": {},
   "outputs": [],
   "source": [
    "days = {\n",
    "    0: 'monday',\n",
    "    1: 'tuesday',\n",
    "    2: 'wednesday',\n",
    "    3: 'thursday',\n",
    "    4: 'friday',\n",
    "    5: 'saturday',\n",
    "    6: 'sunday'\n",
    "}\n",
    "\n",
    "days.values()"
   ]
  },
  {
   "cell_type": "code",
   "execution_count": null,
   "metadata": {},
   "outputs": [],
   "source": [
    "data['day_of_week'] = data['date'].dt.weekday\n",
    "data['day_of_week'] = data['day_of_week'].map(days)\n",
    "\n",
    "one_hot = pd.get_dummies(data['day_of_week'], columns=['day_of_week'], prefix='', prefix_sep='')\n",
    "one_hot = one_hot[list(days.values())]\n",
    "\n",
    "data = pd.concat([data.drop(columns=['day_of_week']), one_hot], axis=1)\n",
    "data[list(days.values())] = data[list(days.values())].astype(int)\n",
    "data.info()"
   ]
  },
  {
   "cell_type": "code",
   "execution_count": null,
   "metadata": {},
   "outputs": [],
   "source": [
    "data.head()"
   ]
  },
  {
   "cell_type": "code",
   "execution_count": 34,
   "metadata": {},
   "outputs": [],
   "source": [
    "data['hour'] = data['date'].dt.hour\n",
    "data['sin_hour'] = np.sin(2 * np.pi * data['hour'] / 24)\n",
    "data['cos_hour'] = np.cos(2 * np.pi * data['hour'] / 24)\n",
    "\n",
    "data = data.drop(columns=['hour'])"
   ]
  },
  {
   "cell_type": "code",
   "execution_count": null,
   "metadata": {},
   "outputs": [],
   "source": [
    "be_holidays = holidays.Belgium(years=data['date'].dt.year.unique())\n",
    "be_holidays = {pd.Timestamp(date): name for date, name in be_holidays.items()}\n",
    "data['is_holiday'] = data['date'].isin(be_holidays).astype(int)\n",
    "\n",
    "n_holidays = data[data['is_holiday'] == 1]['date'].count()\n",
    "print(f'Il a {n_holidays} jour(s) férié(s) dans le dataset.')"
   ]
  },
  {
   "cell_type": "code",
   "execution_count": 36,
   "metadata": {},
   "outputs": [],
   "source": [
    "be_school_holidays_2016 = [\n",
    "    (\"2016-02-08\", \"2016-02-14\"),  # Carnaval\n",
    "    (\"2016-03-28\", \"2016-04-10\"),  # Pâques\n",
    "    (\"2016-07-01\", \"2016-08-31\"),  # Été\n",
    "    (\"2016-10-31\", \"2016-11-06\"),  # Toussaint\n",
    "    (\"2016-12-26\", \"2017-01-08\")   # Noël\n",
    "]\n",
    "\n",
    "def is_school_holiday(date, holidays):\n",
    "    for start, end in holidays:\n",
    "        if pd.Timestamp(start) <= date <= pd.Timestamp(end):\n",
    "            return True\n",
    "    return False"
   ]
  },
  {
   "cell_type": "code",
   "execution_count": null,
   "metadata": {},
   "outputs": [],
   "source": [
    "data['is_school_holiday'] = data['date'].apply(lambda x: is_school_holiday(x, be_school_holidays_2016)).astype(int)\n",
    "\n",
    "n_school_holidays = len(data.loc[data['is_school_holiday'] == True, 'date'].dt.date.unique())\n",
    "print(f'Il y a {n_school_holidays} jour(s) de vacances scolaires dans le dataset.')"
   ]
  },
  {
   "cell_type": "code",
   "execution_count": 38,
   "metadata": {},
   "outputs": [],
   "source": [
    "def get_season(date):\n",
    "    year = date.year\n",
    "    seasons = {\n",
    "        0: (pd.Timestamp(year=year, month=3, day=21), pd.Timestamp(year=year, month=6, day=20)), # Printemps\n",
    "        1: (pd.Timestamp(year=year, month=6, day=21), pd.Timestamp(year=year, month=9, day=20)), # Été\n",
    "        2: (pd.Timestamp(year=year, month=9, day=21), pd.Timestamp(year=year, month=12, day=20)), # Automne\n",
    "        3: (pd.Timestamp(year=year, month=12, day=21), pd.Timestamp(year=year+1, month=3, day=20)) # Hiver\n",
    "        }\n",
    "    for season, (start, end) in seasons.items():\n",
    "        if start <= date <= end:\n",
    "            return season\n",
    "    return 3 # 01/01 - 20/03"
   ]
  },
  {
   "cell_type": "code",
   "execution_count": 39,
   "metadata": {},
   "outputs": [],
   "source": [
    "index_to_season = {\n",
    "    0: 'spring',\n",
    "    1: 'summer',\n",
    "    2: 'fall',\n",
    "    3: 'winter'\n",
    "}"
   ]
  },
  {
   "cell_type": "code",
   "execution_count": null,
   "metadata": {},
   "outputs": [],
   "source": [
    "data['season'] = data['date'].apply(get_season)\n",
    "\n",
    "n_seasons = len(data['season'].unique())\n",
    "print(f'Il y a {n_seasons} différentes dans le dataset.')"
   ]
  },
  {
   "cell_type": "code",
   "execution_count": null,
   "metadata": {},
   "outputs": [],
   "source": [
    "data['season'].value_counts()"
   ]
  },
  {
   "cell_type": "code",
   "execution_count": 42,
   "metadata": {},
   "outputs": [],
   "source": [
    "encode_winter_spring = {\n",
    "    0: 0,\n",
    "    3: 1\n",
    "}\n",
    "\n",
    "data['season'] = data['season'].replace(encode_winter_spring)"
   ]
  },
  {
   "cell_type": "code",
   "execution_count": null,
   "metadata": {},
   "outputs": [],
   "source": [
    "data['season'].value_counts()"
   ]
  },
  {
   "cell_type": "code",
   "execution_count": null,
   "metadata": {},
   "outputs": [],
   "source": [
    "data.head()"
   ]
  },
  {
   "cell_type": "code",
   "execution_count": null,
   "metadata": {},
   "outputs": [],
   "source": [
    "data.duplicated().value_counts()"
   ]
  },
  {
   "cell_type": "code",
   "execution_count": null,
   "metadata": {},
   "outputs": [],
   "source": [
    "save_data(data, 'processed_data')"
   ]
  }
 ],
 "metadata": {
  "kernelspec": {
   "display_name": "venv",
   "language": "python",
   "name": "python3"
  },
  "language_info": {
   "codemirror_mode": {
    "name": "ipython",
    "version": 3
   },
   "file_extension": ".py",
   "mimetype": "text/x-python",
   "name": "python",
   "nbconvert_exporter": "python",
   "pygments_lexer": "ipython3",
   "version": "3.9.6"
  }
 },
 "nbformat": 4,
 "nbformat_minor": 2
}
