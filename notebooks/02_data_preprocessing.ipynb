{
 "cells": [
  {
   "cell_type": "markdown",
   "metadata": {},
   "source": [
    "<hr style=\"margin-bottom: 50px;\">\n",
    "<center>\n",
    "    <h1 style=\"margin-top: 0; margin-bottom: 0;\">\n",
    "        <b><u>Prétraitement des données</u></b>\n",
    "    </h1>\n",
    "</center>\n",
    "<hr style=\"margin-top: 50px;\">"
   ]
  },
  {
   "cell_type": "markdown",
   "metadata": {},
   "source": [
    "# <b>1. Configuration du notebook"
   ]
  },
  {
   "cell_type": "code",
   "execution_count": 34,
   "metadata": {},
   "outputs": [],
   "source": [
    "# Imports des modules du projet\n",
    "import config, src\n",
    "\n",
    "# Imports classiques\n",
    "import numpy as np\n",
    "import pandas as pd\n",
    "\n",
    "# Imports spécifiques\n",
    "import holidays"
   ]
  },
  {
   "cell_type": "code",
   "execution_count": 35,
   "metadata": {},
   "outputs": [
    {
     "name": "stdout",
     "output_type": "stream",
     "text": [
      "Données chargées avec succès.\n"
     ]
    }
   ],
   "source": [
    "# Chargement des données brutes\n",
    "data = src.load_data(config.RAW_DATA_FILE)"
   ]
  },
  {
   "cell_type": "code",
   "execution_count": 36,
   "metadata": {},
   "outputs": [],
   "source": [
    "data.drop(columns=['rv1', 'rv2'], inplace=True)"
   ]
  },
  {
   "cell_type": "code",
   "execution_count": 37,
   "metadata": {},
   "outputs": [],
   "source": [
    "rename_dict = {\n",
    "    'date': 'Date',\n",
    "    'Appliances': 'Energy',\n",
    "    'lights': 'Lights',\n",
    "    'T1': 'Kitchen_T',\n",
    "    'RH_1': 'Kitchen_H',\n",
    "    'T2': 'Living_T',\n",
    "    'RH_2': 'Living_H',\n",
    "    'T3': 'Laundry_T',\n",
    "    'RH_3': 'Laundry_H',\n",
    "    'T4': 'Office_T',\n",
    "    'RH_4': 'Office_H',\n",
    "    'T5': 'Bath_T',\n",
    "    'RH_5': 'Bath_H',\n",
    "    'T6': 'Outside_T',\n",
    "    'RH_6': 'Outside_H',\n",
    "    'T7': 'Ironing_T',\n",
    "    'RH_7': 'Ironing_H',\n",
    "    'T8': 'TeenRoom_T',\n",
    "    'RH_8': 'TeenRoom_H',\n",
    "    'T9': 'ParentsRoom_T',\n",
    "    'RH_9': 'ParentsRoom_H',\n",
    "    'T_out': 'Weather_T',\n",
    "    'Press_mm_hg': 'Weather_P',\n",
    "    'RH_out': 'Weather_H',\n",
    "    'Windspeed': 'Weather_WindSpeed',\n",
    "    'Visibility': 'Weather_Visibility',\n",
    "    'Tdewpoint': 'Weather_Dewpoint',\n",
    "}\n",
    "\n",
    "data.rename(columns=rename_dict, inplace=True)"
   ]
  },
  {
   "cell_type": "code",
   "execution_count": 38,
   "metadata": {},
   "outputs": [
    {
     "name": "stdout",
     "output_type": "stream",
     "text": [
      "Données sauvegardées avec succès.\n"
     ]
    }
   ],
   "source": [
    "src.save_data(data, 'renamed_data')"
   ]
  },
  {
   "cell_type": "code",
   "execution_count": 39,
   "metadata": {},
   "outputs": [],
   "source": [
    "# Conversion des dates au format datetime\n",
    "data['Date'] = pd.to_datetime(data['Date'])"
   ]
  },
  {
   "cell_type": "code",
   "execution_count": 40,
   "metadata": {},
   "outputs": [
    {
     "data": {
      "text/plain": [
       "dict_values(['monday', 'tuesday', 'wednesday', 'thursday', 'friday', 'saturday', 'sunday'])"
      ]
     },
     "execution_count": 40,
     "metadata": {},
     "output_type": "execute_result"
    }
   ],
   "source": [
    "days = {\n",
    "    0: 'monday',\n",
    "    1: 'tuesday',\n",
    "    2: 'wednesday',\n",
    "    3: 'thursday',\n",
    "    4: 'friday',\n",
    "    5: 'saturday',\n",
    "    6: 'sunday'\n",
    "}\n",
    "\n",
    "days.values()"
   ]
  },
  {
   "cell_type": "code",
   "execution_count": 41,
   "metadata": {},
   "outputs": [
    {
     "name": "stdout",
     "output_type": "stream",
     "text": [
      "<class 'pandas.core.frame.DataFrame'>\n",
      "RangeIndex: 19735 entries, 0 to 19734\n",
      "Data columns (total 34 columns):\n",
      " #   Column              Non-Null Count  Dtype         \n",
      "---  ------              --------------  -----         \n",
      " 0   Date                19735 non-null  datetime64[ns]\n",
      " 1   Energy              19735 non-null  int64         \n",
      " 2   Lights              19735 non-null  int64         \n",
      " 3   Kitchen_T           19735 non-null  float64       \n",
      " 4   Kitchen_H           19735 non-null  float64       \n",
      " 5   Living_T            19735 non-null  float64       \n",
      " 6   Living_H            19735 non-null  float64       \n",
      " 7   Laundry_T           19735 non-null  float64       \n",
      " 8   Laundry_H           19735 non-null  float64       \n",
      " 9   Office_T            19735 non-null  float64       \n",
      " 10  Office_H            19735 non-null  float64       \n",
      " 11  Bath_T              19735 non-null  float64       \n",
      " 12  Bath_H              19735 non-null  float64       \n",
      " 13  Outside_T           19735 non-null  float64       \n",
      " 14  Outside_H           19735 non-null  float64       \n",
      " 15  Ironing_T           19735 non-null  float64       \n",
      " 16  Ironing_H           19735 non-null  float64       \n",
      " 17  TeenRoom_T          19735 non-null  float64       \n",
      " 18  TeenRoom_H          19735 non-null  float64       \n",
      " 19  ParentsRoom_T       19735 non-null  float64       \n",
      " 20  ParentsRoom_H       19735 non-null  float64       \n",
      " 21  Weather_T           19735 non-null  float64       \n",
      " 22  Weather_P           19735 non-null  float64       \n",
      " 23  Weather_H           19735 non-null  float64       \n",
      " 24  Weather_WindSpeed   19735 non-null  float64       \n",
      " 25  Weather_Visibility  19735 non-null  float64       \n",
      " 26  Weather_Dewpoint    19735 non-null  float64       \n",
      " 27  monday              19735 non-null  int64         \n",
      " 28  tuesday             19735 non-null  int64         \n",
      " 29  wednesday           19735 non-null  int64         \n",
      " 30  thursday            19735 non-null  int64         \n",
      " 31  friday              19735 non-null  int64         \n",
      " 32  saturday            19735 non-null  int64         \n",
      " 33  sunday              19735 non-null  int64         \n",
      "dtypes: datetime64[ns](1), float64(24), int64(9)\n",
      "memory usage: 5.1 MB\n"
     ]
    }
   ],
   "source": [
    "data['day_of_week'] = data['Date'].dt.weekday\n",
    "data['day_of_week'] = data['day_of_week'].map(days)\n",
    "\n",
    "one_hot = pd.get_dummies(data['day_of_week'], columns=['day_of_week'], prefix='', prefix_sep='')\n",
    "one_hot = one_hot[list(days.values())]\n",
    "\n",
    "data = pd.concat([data.drop(columns=['day_of_week']), one_hot], axis=1)\n",
    "data[list(days.values())] = data[list(days.values())].astype(int)\n",
    "data.info()"
   ]
  },
  {
   "cell_type": "code",
   "execution_count": 42,
   "metadata": {},
   "outputs": [
    {
     "data": {
      "text/html": [
       "<div>\n",
       "<style scoped>\n",
       "    .dataframe tbody tr th:only-of-type {\n",
       "        vertical-align: middle;\n",
       "    }\n",
       "\n",
       "    .dataframe tbody tr th {\n",
       "        vertical-align: top;\n",
       "    }\n",
       "\n",
       "    .dataframe thead th {\n",
       "        text-align: right;\n",
       "    }\n",
       "</style>\n",
       "<table border=\"1\" class=\"dataframe\">\n",
       "  <thead>\n",
       "    <tr style=\"text-align: right;\">\n",
       "      <th></th>\n",
       "      <th>Date</th>\n",
       "      <th>Energy</th>\n",
       "      <th>Lights</th>\n",
       "      <th>Kitchen_T</th>\n",
       "      <th>Kitchen_H</th>\n",
       "      <th>Living_T</th>\n",
       "      <th>Living_H</th>\n",
       "      <th>Laundry_T</th>\n",
       "      <th>Laundry_H</th>\n",
       "      <th>Office_T</th>\n",
       "      <th>...</th>\n",
       "      <th>Weather_WindSpeed</th>\n",
       "      <th>Weather_Visibility</th>\n",
       "      <th>Weather_Dewpoint</th>\n",
       "      <th>monday</th>\n",
       "      <th>tuesday</th>\n",
       "      <th>wednesday</th>\n",
       "      <th>thursday</th>\n",
       "      <th>friday</th>\n",
       "      <th>saturday</th>\n",
       "      <th>sunday</th>\n",
       "    </tr>\n",
       "  </thead>\n",
       "  <tbody>\n",
       "    <tr>\n",
       "      <th>0</th>\n",
       "      <td>2016-01-11 17:00:00</td>\n",
       "      <td>60</td>\n",
       "      <td>30</td>\n",
       "      <td>19.89</td>\n",
       "      <td>47.596667</td>\n",
       "      <td>19.2</td>\n",
       "      <td>44.790000</td>\n",
       "      <td>19.79</td>\n",
       "      <td>44.730000</td>\n",
       "      <td>19.000000</td>\n",
       "      <td>...</td>\n",
       "      <td>7.000000</td>\n",
       "      <td>63.000000</td>\n",
       "      <td>5.3</td>\n",
       "      <td>1</td>\n",
       "      <td>0</td>\n",
       "      <td>0</td>\n",
       "      <td>0</td>\n",
       "      <td>0</td>\n",
       "      <td>0</td>\n",
       "      <td>0</td>\n",
       "    </tr>\n",
       "    <tr>\n",
       "      <th>1</th>\n",
       "      <td>2016-01-11 17:10:00</td>\n",
       "      <td>60</td>\n",
       "      <td>30</td>\n",
       "      <td>19.89</td>\n",
       "      <td>46.693333</td>\n",
       "      <td>19.2</td>\n",
       "      <td>44.722500</td>\n",
       "      <td>19.79</td>\n",
       "      <td>44.790000</td>\n",
       "      <td>19.000000</td>\n",
       "      <td>...</td>\n",
       "      <td>6.666667</td>\n",
       "      <td>59.166667</td>\n",
       "      <td>5.2</td>\n",
       "      <td>1</td>\n",
       "      <td>0</td>\n",
       "      <td>0</td>\n",
       "      <td>0</td>\n",
       "      <td>0</td>\n",
       "      <td>0</td>\n",
       "      <td>0</td>\n",
       "    </tr>\n",
       "    <tr>\n",
       "      <th>2</th>\n",
       "      <td>2016-01-11 17:20:00</td>\n",
       "      <td>50</td>\n",
       "      <td>30</td>\n",
       "      <td>19.89</td>\n",
       "      <td>46.300000</td>\n",
       "      <td>19.2</td>\n",
       "      <td>44.626667</td>\n",
       "      <td>19.79</td>\n",
       "      <td>44.933333</td>\n",
       "      <td>18.926667</td>\n",
       "      <td>...</td>\n",
       "      <td>6.333333</td>\n",
       "      <td>55.333333</td>\n",
       "      <td>5.1</td>\n",
       "      <td>1</td>\n",
       "      <td>0</td>\n",
       "      <td>0</td>\n",
       "      <td>0</td>\n",
       "      <td>0</td>\n",
       "      <td>0</td>\n",
       "      <td>0</td>\n",
       "    </tr>\n",
       "    <tr>\n",
       "      <th>3</th>\n",
       "      <td>2016-01-11 17:30:00</td>\n",
       "      <td>50</td>\n",
       "      <td>40</td>\n",
       "      <td>19.89</td>\n",
       "      <td>46.066667</td>\n",
       "      <td>19.2</td>\n",
       "      <td>44.590000</td>\n",
       "      <td>19.79</td>\n",
       "      <td>45.000000</td>\n",
       "      <td>18.890000</td>\n",
       "      <td>...</td>\n",
       "      <td>6.000000</td>\n",
       "      <td>51.500000</td>\n",
       "      <td>5.0</td>\n",
       "      <td>1</td>\n",
       "      <td>0</td>\n",
       "      <td>0</td>\n",
       "      <td>0</td>\n",
       "      <td>0</td>\n",
       "      <td>0</td>\n",
       "      <td>0</td>\n",
       "    </tr>\n",
       "    <tr>\n",
       "      <th>4</th>\n",
       "      <td>2016-01-11 17:40:00</td>\n",
       "      <td>60</td>\n",
       "      <td>40</td>\n",
       "      <td>19.89</td>\n",
       "      <td>46.333333</td>\n",
       "      <td>19.2</td>\n",
       "      <td>44.530000</td>\n",
       "      <td>19.79</td>\n",
       "      <td>45.000000</td>\n",
       "      <td>18.890000</td>\n",
       "      <td>...</td>\n",
       "      <td>5.666667</td>\n",
       "      <td>47.666667</td>\n",
       "      <td>4.9</td>\n",
       "      <td>1</td>\n",
       "      <td>0</td>\n",
       "      <td>0</td>\n",
       "      <td>0</td>\n",
       "      <td>0</td>\n",
       "      <td>0</td>\n",
       "      <td>0</td>\n",
       "    </tr>\n",
       "  </tbody>\n",
       "</table>\n",
       "<p>5 rows × 34 columns</p>\n",
       "</div>"
      ],
      "text/plain": [
       "                 Date  Energy  Lights  Kitchen_T  Kitchen_H  Living_T  \\\n",
       "0 2016-01-11 17:00:00      60      30      19.89  47.596667      19.2   \n",
       "1 2016-01-11 17:10:00      60      30      19.89  46.693333      19.2   \n",
       "2 2016-01-11 17:20:00      50      30      19.89  46.300000      19.2   \n",
       "3 2016-01-11 17:30:00      50      40      19.89  46.066667      19.2   \n",
       "4 2016-01-11 17:40:00      60      40      19.89  46.333333      19.2   \n",
       "\n",
       "    Living_H  Laundry_T  Laundry_H   Office_T  ...  Weather_WindSpeed  \\\n",
       "0  44.790000      19.79  44.730000  19.000000  ...           7.000000   \n",
       "1  44.722500      19.79  44.790000  19.000000  ...           6.666667   \n",
       "2  44.626667      19.79  44.933333  18.926667  ...           6.333333   \n",
       "3  44.590000      19.79  45.000000  18.890000  ...           6.000000   \n",
       "4  44.530000      19.79  45.000000  18.890000  ...           5.666667   \n",
       "\n",
       "   Weather_Visibility  Weather_Dewpoint  monday  tuesday  wednesday  thursday  \\\n",
       "0           63.000000               5.3       1        0          0         0   \n",
       "1           59.166667               5.2       1        0          0         0   \n",
       "2           55.333333               5.1       1        0          0         0   \n",
       "3           51.500000               5.0       1        0          0         0   \n",
       "4           47.666667               4.9       1        0          0         0   \n",
       "\n",
       "   friday  saturday  sunday  \n",
       "0       0         0       0  \n",
       "1       0         0       0  \n",
       "2       0         0       0  \n",
       "3       0         0       0  \n",
       "4       0         0       0  \n",
       "\n",
       "[5 rows x 34 columns]"
      ]
     },
     "execution_count": 42,
     "metadata": {},
     "output_type": "execute_result"
    }
   ],
   "source": [
    "data.head()"
   ]
  },
  {
   "cell_type": "code",
   "execution_count": 43,
   "metadata": {},
   "outputs": [],
   "source": [
    "data['hour'] = data['Date'].dt.hour\n",
    "data['sin_hour'] = np.sin(2 * np.pi * data['hour'] / 24)\n",
    "data['cos_hour'] = np.cos(2 * np.pi * data['hour'] / 24)\n",
    "\n",
    "data = data.drop(columns=['hour'])"
   ]
  },
  {
   "cell_type": "code",
   "execution_count": 44,
   "metadata": {},
   "outputs": [
    {
     "name": "stdout",
     "output_type": "stream",
     "text": [
      "Il a 6 jour(s) férié(s) dans le dataset.\n"
     ]
    }
   ],
   "source": [
    "be_holidays = holidays.Belgium(years=data['Date'].dt.year.unique())\n",
    "be_holidays = {pd.Timestamp(date): name for date, name in be_holidays.items()}\n",
    "data['is_holiday'] = data['Date'].isin(be_holidays).astype(int)\n",
    "\n",
    "n_holidays = data[data['is_holiday'] == 1]['Date'].count()\n",
    "print(f'Il a {n_holidays} jour(s) férié(s) dans le dataset.')"
   ]
  },
  {
   "cell_type": "code",
   "execution_count": 45,
   "metadata": {},
   "outputs": [],
   "source": [
    "be_school_holidays_2016 = [\n",
    "    ('2016-02-08', '2016-02-14'),  # Carnaval\n",
    "    ('2016-03-28', '2016-04-10'),  # Pâques\n",
    "    ('2016-07-01', '2016-08-31'),  # Été\n",
    "    ('2016-10-31', '2016-11-06'),  # Toussaint\n",
    "    ('2016-12-26', '2017-01-08')   # Noël\n",
    "]\n",
    "\n",
    "def is_school_holiday(date, holidays):\n",
    "    for start, end in holidays:\n",
    "        if pd.Timestamp(start) <= date <= pd.Timestamp(end):\n",
    "            return True\n",
    "    return False"
   ]
  },
  {
   "cell_type": "code",
   "execution_count": 46,
   "metadata": {},
   "outputs": [
    {
     "name": "stdout",
     "output_type": "stream",
     "text": [
      "Il y a 21 jour(s) de vacances scolaires dans le dataset.\n"
     ]
    }
   ],
   "source": [
    "data['is_school_holiday'] = data['Date'].apply(lambda x: is_school_holiday(x, be_school_holidays_2016)).astype(int)\n",
    "\n",
    "n_school_holidays = len(data.loc[data['is_school_holiday'] == True, 'Date'].dt.date.unique())\n",
    "print(f'Il y a {n_school_holidays} jour(s) de vacances scolaires dans le dataset.')"
   ]
  },
  {
   "cell_type": "code",
   "execution_count": 47,
   "metadata": {},
   "outputs": [],
   "source": [
    "def get_season(date):\n",
    "    year = date.year\n",
    "    seasons = {\n",
    "        0: (pd.Timestamp(year=year, month=3, day=21), pd.Timestamp(year=year, month=6, day=20)), # Printemps\n",
    "        1: (pd.Timestamp(year=year, month=6, day=21), pd.Timestamp(year=year, month=9, day=20)), # Été\n",
    "        2: (pd.Timestamp(year=year, month=9, day=21), pd.Timestamp(year=year, month=12, day=20)), # Automne\n",
    "        3: (pd.Timestamp(year=year, month=12, day=21), pd.Timestamp(year=year+1, month=3, day=20)) # Hiver\n",
    "        }\n",
    "    for season, (start, end) in seasons.items():\n",
    "        if start <= date <= end:\n",
    "            return season\n",
    "    return 3 # 01/01 - 20/03"
   ]
  },
  {
   "cell_type": "code",
   "execution_count": 48,
   "metadata": {},
   "outputs": [],
   "source": [
    "index_to_season = {\n",
    "    0: 'spring',\n",
    "    1: 'summer',\n",
    "    2: 'fall',\n",
    "    3: 'winter'\n",
    "}"
   ]
  },
  {
   "cell_type": "code",
   "execution_count": 49,
   "metadata": {},
   "outputs": [
    {
     "name": "stdout",
     "output_type": "stream",
     "text": [
      "Il y a 2 différentes dans le dataset.\n"
     ]
    }
   ],
   "source": [
    "data['season'] = data['Date'].apply(get_season)\n",
    "\n",
    "n_seasons = len(data['season'].unique())\n",
    "print(f'Il y a {n_seasons} différentes dans le dataset.')"
   ]
  },
  {
   "cell_type": "code",
   "execution_count": 50,
   "metadata": {},
   "outputs": [
    {
     "data": {
      "text/plain": [
       "season\n",
       "3    9978\n",
       "0    9757\n",
       "Name: count, dtype: int64"
      ]
     },
     "execution_count": 50,
     "metadata": {},
     "output_type": "execute_result"
    }
   ],
   "source": [
    "data['season'].value_counts()"
   ]
  },
  {
   "cell_type": "code",
   "execution_count": 51,
   "metadata": {},
   "outputs": [],
   "source": [
    "encode_winter_spring = {\n",
    "    0: 0,\n",
    "    3: 1\n",
    "}\n",
    "\n",
    "data['season'] = data['season'].replace(encode_winter_spring)"
   ]
  },
  {
   "cell_type": "code",
   "execution_count": 52,
   "metadata": {},
   "outputs": [
    {
     "data": {
      "text/plain": [
       "season\n",
       "1    9978\n",
       "0    9757\n",
       "Name: count, dtype: int64"
      ]
     },
     "execution_count": 52,
     "metadata": {},
     "output_type": "execute_result"
    }
   ],
   "source": [
    "data['season'].value_counts()"
   ]
  },
  {
   "cell_type": "code",
   "execution_count": 53,
   "metadata": {},
   "outputs": [
    {
     "data": {
      "text/html": [
       "<div>\n",
       "<style scoped>\n",
       "    .dataframe tbody tr th:only-of-type {\n",
       "        vertical-align: middle;\n",
       "    }\n",
       "\n",
       "    .dataframe tbody tr th {\n",
       "        vertical-align: top;\n",
       "    }\n",
       "\n",
       "    .dataframe thead th {\n",
       "        text-align: right;\n",
       "    }\n",
       "</style>\n",
       "<table border=\"1\" class=\"dataframe\">\n",
       "  <thead>\n",
       "    <tr style=\"text-align: right;\">\n",
       "      <th></th>\n",
       "      <th>Date</th>\n",
       "      <th>Energy</th>\n",
       "      <th>Lights</th>\n",
       "      <th>Kitchen_T</th>\n",
       "      <th>Kitchen_H</th>\n",
       "      <th>Living_T</th>\n",
       "      <th>Living_H</th>\n",
       "      <th>Laundry_T</th>\n",
       "      <th>Laundry_H</th>\n",
       "      <th>Office_T</th>\n",
       "      <th>...</th>\n",
       "      <th>wednesday</th>\n",
       "      <th>thursday</th>\n",
       "      <th>friday</th>\n",
       "      <th>saturday</th>\n",
       "      <th>sunday</th>\n",
       "      <th>sin_hour</th>\n",
       "      <th>cos_hour</th>\n",
       "      <th>is_holiday</th>\n",
       "      <th>is_school_holiday</th>\n",
       "      <th>season</th>\n",
       "    </tr>\n",
       "  </thead>\n",
       "  <tbody>\n",
       "    <tr>\n",
       "      <th>0</th>\n",
       "      <td>2016-01-11 17:00:00</td>\n",
       "      <td>60</td>\n",
       "      <td>30</td>\n",
       "      <td>19.89</td>\n",
       "      <td>47.596667</td>\n",
       "      <td>19.2</td>\n",
       "      <td>44.790000</td>\n",
       "      <td>19.79</td>\n",
       "      <td>44.730000</td>\n",
       "      <td>19.000000</td>\n",
       "      <td>...</td>\n",
       "      <td>0</td>\n",
       "      <td>0</td>\n",
       "      <td>0</td>\n",
       "      <td>0</td>\n",
       "      <td>0</td>\n",
       "      <td>-0.965926</td>\n",
       "      <td>-0.258819</td>\n",
       "      <td>0</td>\n",
       "      <td>0</td>\n",
       "      <td>1</td>\n",
       "    </tr>\n",
       "    <tr>\n",
       "      <th>1</th>\n",
       "      <td>2016-01-11 17:10:00</td>\n",
       "      <td>60</td>\n",
       "      <td>30</td>\n",
       "      <td>19.89</td>\n",
       "      <td>46.693333</td>\n",
       "      <td>19.2</td>\n",
       "      <td>44.722500</td>\n",
       "      <td>19.79</td>\n",
       "      <td>44.790000</td>\n",
       "      <td>19.000000</td>\n",
       "      <td>...</td>\n",
       "      <td>0</td>\n",
       "      <td>0</td>\n",
       "      <td>0</td>\n",
       "      <td>0</td>\n",
       "      <td>0</td>\n",
       "      <td>-0.965926</td>\n",
       "      <td>-0.258819</td>\n",
       "      <td>0</td>\n",
       "      <td>0</td>\n",
       "      <td>1</td>\n",
       "    </tr>\n",
       "    <tr>\n",
       "      <th>2</th>\n",
       "      <td>2016-01-11 17:20:00</td>\n",
       "      <td>50</td>\n",
       "      <td>30</td>\n",
       "      <td>19.89</td>\n",
       "      <td>46.300000</td>\n",
       "      <td>19.2</td>\n",
       "      <td>44.626667</td>\n",
       "      <td>19.79</td>\n",
       "      <td>44.933333</td>\n",
       "      <td>18.926667</td>\n",
       "      <td>...</td>\n",
       "      <td>0</td>\n",
       "      <td>0</td>\n",
       "      <td>0</td>\n",
       "      <td>0</td>\n",
       "      <td>0</td>\n",
       "      <td>-0.965926</td>\n",
       "      <td>-0.258819</td>\n",
       "      <td>0</td>\n",
       "      <td>0</td>\n",
       "      <td>1</td>\n",
       "    </tr>\n",
       "    <tr>\n",
       "      <th>3</th>\n",
       "      <td>2016-01-11 17:30:00</td>\n",
       "      <td>50</td>\n",
       "      <td>40</td>\n",
       "      <td>19.89</td>\n",
       "      <td>46.066667</td>\n",
       "      <td>19.2</td>\n",
       "      <td>44.590000</td>\n",
       "      <td>19.79</td>\n",
       "      <td>45.000000</td>\n",
       "      <td>18.890000</td>\n",
       "      <td>...</td>\n",
       "      <td>0</td>\n",
       "      <td>0</td>\n",
       "      <td>0</td>\n",
       "      <td>0</td>\n",
       "      <td>0</td>\n",
       "      <td>-0.965926</td>\n",
       "      <td>-0.258819</td>\n",
       "      <td>0</td>\n",
       "      <td>0</td>\n",
       "      <td>1</td>\n",
       "    </tr>\n",
       "    <tr>\n",
       "      <th>4</th>\n",
       "      <td>2016-01-11 17:40:00</td>\n",
       "      <td>60</td>\n",
       "      <td>40</td>\n",
       "      <td>19.89</td>\n",
       "      <td>46.333333</td>\n",
       "      <td>19.2</td>\n",
       "      <td>44.530000</td>\n",
       "      <td>19.79</td>\n",
       "      <td>45.000000</td>\n",
       "      <td>18.890000</td>\n",
       "      <td>...</td>\n",
       "      <td>0</td>\n",
       "      <td>0</td>\n",
       "      <td>0</td>\n",
       "      <td>0</td>\n",
       "      <td>0</td>\n",
       "      <td>-0.965926</td>\n",
       "      <td>-0.258819</td>\n",
       "      <td>0</td>\n",
       "      <td>0</td>\n",
       "      <td>1</td>\n",
       "    </tr>\n",
       "  </tbody>\n",
       "</table>\n",
       "<p>5 rows × 39 columns</p>\n",
       "</div>"
      ],
      "text/plain": [
       "                 Date  Energy  Lights  Kitchen_T  Kitchen_H  Living_T  \\\n",
       "0 2016-01-11 17:00:00      60      30      19.89  47.596667      19.2   \n",
       "1 2016-01-11 17:10:00      60      30      19.89  46.693333      19.2   \n",
       "2 2016-01-11 17:20:00      50      30      19.89  46.300000      19.2   \n",
       "3 2016-01-11 17:30:00      50      40      19.89  46.066667      19.2   \n",
       "4 2016-01-11 17:40:00      60      40      19.89  46.333333      19.2   \n",
       "\n",
       "    Living_H  Laundry_T  Laundry_H   Office_T  ...  wednesday  thursday  \\\n",
       "0  44.790000      19.79  44.730000  19.000000  ...          0         0   \n",
       "1  44.722500      19.79  44.790000  19.000000  ...          0         0   \n",
       "2  44.626667      19.79  44.933333  18.926667  ...          0         0   \n",
       "3  44.590000      19.79  45.000000  18.890000  ...          0         0   \n",
       "4  44.530000      19.79  45.000000  18.890000  ...          0         0   \n",
       "\n",
       "   friday  saturday  sunday  sin_hour  cos_hour  is_holiday  \\\n",
       "0       0         0       0 -0.965926 -0.258819           0   \n",
       "1       0         0       0 -0.965926 -0.258819           0   \n",
       "2       0         0       0 -0.965926 -0.258819           0   \n",
       "3       0         0       0 -0.965926 -0.258819           0   \n",
       "4       0         0       0 -0.965926 -0.258819           0   \n",
       "\n",
       "   is_school_holiday  season  \n",
       "0                  0       1  \n",
       "1                  0       1  \n",
       "2                  0       1  \n",
       "3                  0       1  \n",
       "4                  0       1  \n",
       "\n",
       "[5 rows x 39 columns]"
      ]
     },
     "execution_count": 53,
     "metadata": {},
     "output_type": "execute_result"
    }
   ],
   "source": [
    "data.head()"
   ]
  },
  {
   "cell_type": "code",
   "execution_count": 54,
   "metadata": {},
   "outputs": [
    {
     "data": {
      "text/plain": [
       "False    19735\n",
       "Name: count, dtype: int64"
      ]
     },
     "execution_count": 54,
     "metadata": {},
     "output_type": "execute_result"
    }
   ],
   "source": [
    "data.duplicated().value_counts()"
   ]
  },
  {
   "cell_type": "code",
   "execution_count": 55,
   "metadata": {},
   "outputs": [
    {
     "name": "stdout",
     "output_type": "stream",
     "text": [
      "Données sauvegardées avec succès.\n"
     ]
    }
   ],
   "source": [
    "src.save_data(data, 'processed_data')"
   ]
  }
 ],
 "metadata": {
  "kernelspec": {
   "display_name": "venv",
   "language": "python",
   "name": "python3"
  },
  "language_info": {
   "codemirror_mode": {
    "name": "ipython",
    "version": 3
   },
   "file_extension": ".py",
   "mimetype": "text/x-python",
   "name": "python",
   "nbconvert_exporter": "python",
   "pygments_lexer": "ipython3",
   "version": "3.9.6"
  }
 },
 "nbformat": 4,
 "nbformat_minor": 2
}
