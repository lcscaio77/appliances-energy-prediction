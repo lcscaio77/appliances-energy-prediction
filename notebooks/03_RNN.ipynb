{
 "cells": [
  {
   "cell_type": "code",
   "execution_count": 75,
   "metadata": {},
   "outputs": [],
   "source": [
    "import config\n",
    "from src import load_data\n",
    "\n",
    "import numpy as np\n",
    "import pandas as pd\n",
    "\n",
    "from sklearn.preprocessing import MinMaxScaler\n",
    "from sklearn.model_selection import train_test_split\n",
    "\n",
    "from tensorflow.keras import backend as K\n",
    "from tensorflow.keras.models import Sequential\n",
    "from tensorflow.keras.layers import Input, Dense, SimpleRNN, LSTM, GRU\n",
    "\n",
    "from tensorflow.keras.metrics import MeanAbsoluteError as mae\n",
    "from tensorflow.keras.metrics import MeanAbsolutePercentageError as mape"
   ]
  },
  {
   "cell_type": "code",
   "execution_count": 76,
   "metadata": {},
   "outputs": [
    {
     "name": "stdout",
     "output_type": "stream",
     "text": [
      "Données chargées avec succès.\n"
     ]
    }
   ],
   "source": [
    "data = load_data(config.PROCESSED_DATA_FILE)"
   ]
  },
  {
   "cell_type": "code",
   "execution_count": 77,
   "metadata": {},
   "outputs": [],
   "source": [
    "features = data.drop(columns=['date', 'Appliances']).values\n",
    "target = data['Appliances'].values"
   ]
  },
  {
   "cell_type": "code",
   "execution_count": 78,
   "metadata": {},
   "outputs": [],
   "source": [
    "scaler_x = MinMaxScaler()\n",
    "scaler_y = MinMaxScaler()\n",
    "\n",
    "features_scaled = scaler_x.fit_transform(features)\n",
    "target_scaled = scaler_y.fit_transform(target.reshape(-1, 1))"
   ]
  },
  {
   "cell_type": "code",
   "execution_count": 79,
   "metadata": {},
   "outputs": [],
   "source": [
    "# Fonction de création de fenêtres temporelles\n",
    "def create_windows(features, target, window_size):\n",
    "    X, y = [], []\n",
    "    for i in range(len(features) - window_size):\n",
    "        X.append(features[i:i+window_size])\n",
    "        y.append(target[i+window_size])\n",
    "    return np.array(X), np.array(y)"
   ]
  },
  {
   "cell_type": "code",
   "execution_count": 80,
   "metadata": {},
   "outputs": [
    {
     "name": "stdout",
     "output_type": "stream",
     "text": [
      "19591\n"
     ]
    }
   ],
   "source": [
    "print(len(X))"
   ]
  },
  {
   "cell_type": "code",
   "execution_count": 81,
   "metadata": {},
   "outputs": [
    {
     "data": {
      "text/html": [
       "<div>\n",
       "<style scoped>\n",
       "    .dataframe tbody tr th:only-of-type {\n",
       "        vertical-align: middle;\n",
       "    }\n",
       "\n",
       "    .dataframe tbody tr th {\n",
       "        vertical-align: top;\n",
       "    }\n",
       "\n",
       "    .dataframe thead th {\n",
       "        text-align: right;\n",
       "    }\n",
       "</style>\n",
       "<table border=\"1\" class=\"dataframe\">\n",
       "  <thead>\n",
       "    <tr style=\"text-align: right;\">\n",
       "      <th></th>\n",
       "      <th>date</th>\n",
       "      <th>Appliances</th>\n",
       "      <th>lights</th>\n",
       "      <th>T1</th>\n",
       "      <th>RH_1</th>\n",
       "      <th>T2</th>\n",
       "      <th>RH_2</th>\n",
       "      <th>T3</th>\n",
       "      <th>RH_3</th>\n",
       "      <th>T4</th>\n",
       "      <th>...</th>\n",
       "      <th>wednesday</th>\n",
       "      <th>thursday</th>\n",
       "      <th>friday</th>\n",
       "      <th>saturday</th>\n",
       "      <th>sunday</th>\n",
       "      <th>sin_hour</th>\n",
       "      <th>cos_hour</th>\n",
       "      <th>is_holiday</th>\n",
       "      <th>is_school_holiday</th>\n",
       "      <th>season</th>\n",
       "    </tr>\n",
       "  </thead>\n",
       "  <tbody>\n",
       "    <tr>\n",
       "      <th>15414</th>\n",
       "      <td>2016-04-27 18:00:00</td>\n",
       "      <td>360</td>\n",
       "      <td>0</td>\n",
       "      <td>21.133333</td>\n",
       "      <td>34.966667</td>\n",
       "      <td>19.5</td>\n",
       "      <td>35.326667</td>\n",
       "      <td>21.23</td>\n",
       "      <td>34.0</td>\n",
       "      <td>20.29</td>\n",
       "      <td>...</td>\n",
       "      <td>1</td>\n",
       "      <td>0</td>\n",
       "      <td>0</td>\n",
       "      <td>0</td>\n",
       "      <td>0</td>\n",
       "      <td>-1.0</td>\n",
       "      <td>-1.836970e-16</td>\n",
       "      <td>0</td>\n",
       "      <td>0</td>\n",
       "      <td>0</td>\n",
       "    </tr>\n",
       "  </tbody>\n",
       "</table>\n",
       "<p>1 rows × 41 columns</p>\n",
       "</div>"
      ],
      "text/plain": [
       "                      date  Appliances  lights         T1       RH_1    T2  \\\n",
       "15414  2016-04-27 18:00:00         360       0  21.133333  34.966667  19.5   \n",
       "\n",
       "            RH_2     T3  RH_3     T4  ...  wednesday  thursday  friday  \\\n",
       "15414  35.326667  21.23  34.0  20.29  ...          1         0       0   \n",
       "\n",
       "       saturday  sunday  sin_hour      cos_hour  is_holiday  \\\n",
       "15414         0       0      -1.0 -1.836970e-16           0   \n",
       "\n",
       "       is_school_holiday  season  \n",
       "15414                  0       0  \n",
       "\n",
       "[1 rows x 41 columns]"
      ]
     },
     "execution_count": 81,
     "metadata": {},
     "output_type": "execute_result"
    }
   ],
   "source": [
    "data[data['date'] == \"2016-04-27 18:00:00\"]"
   ]
  },
  {
   "cell_type": "code",
   "execution_count": 82,
   "metadata": {},
   "outputs": [
    {
     "name": "stdout",
     "output_type": "stream",
     "text": [
      "15415\n"
     ]
    }
   ],
   "source": [
    "train_size = 15415\n",
    "print(train_size)"
   ]
  },
  {
   "cell_type": "code",
   "execution_count": 83,
   "metadata": {},
   "outputs": [
    {
     "name": "stdout",
     "output_type": "stream",
     "text": [
      "4176\n"
     ]
    }
   ],
   "source": [
    "test_size = len(X) - train_size\n",
    "print(test_size)"
   ]
  },
  {
   "cell_type": "code",
   "execution_count": 84,
   "metadata": {},
   "outputs": [
    {
     "name": "stdout",
     "output_type": "stream",
     "text": [
      "19591\n"
     ]
    }
   ],
   "source": [
    "print(train_size + test_size)"
   ]
  },
  {
   "cell_type": "code",
   "execution_count": 85,
   "metadata": {},
   "outputs": [],
   "source": [
    "# Fenêtrage des données\n",
    "window_size = 144  # Nombre de pas de temps\n",
    "X, y = create_windows(features_scaled, target_scaled, window_size)\n",
    "\n",
    "# Division en ensembles d'entraînement, validation et test\n",
    "X_train, X_test = X[:train_size], X[train_size:]\n",
    "y_train, y_test = y[:train_size], y[train_size:]\n",
    "\n",
    "# X_train, X_temp, y_train, y_temp = train_test_split(X, y, test_size=0.3, random_state=42)\n",
    "# X_val, X_test, y_val, y_test = train_test_split(X_temp, y_temp, test_size=0.5, random_state=42)"
   ]
  },
  {
   "cell_type": "code",
   "execution_count": 86,
   "metadata": {},
   "outputs": [
    {
     "data": {
      "text/plain": [
       "(15415, 144, 39)"
      ]
     },
     "execution_count": 86,
     "metadata": {},
     "output_type": "execute_result"
    }
   ],
   "source": [
    "X_train.shape"
   ]
  },
  {
   "cell_type": "code",
   "execution_count": 87,
   "metadata": {},
   "outputs": [],
   "source": [
    "# RMSE (Root Mean Squared Error)\n",
    "def rmse(y_true, y_pred):\n",
    "    return K.sqrt(K.mean(K.square(y_true - y_pred), axis=-1))\n",
    "\n",
    "# MAPE (Mean Absolute Percentage Error)\n",
    "# def mape(y_true, y_pred):\n",
    "#     return K.mean(K.abs((y_true - y_pred) / K.clip(y_true, K.epsilon(), None)), axis=-1)"
   ]
  },
  {
   "cell_type": "code",
   "execution_count": 88,
   "metadata": {},
   "outputs": [],
   "source": [
    "# Modèle RNN\n",
    "rnn_model = Sequential([\n",
    "    Input(shape=(window_size, X_train.shape[2])),\n",
    "    SimpleRNN(50, activation='tanh'),\n",
    "    Dense(1)\n",
    "])\n",
    "\n",
    "rnn_model.compile(optimizer='adam', loss='mse', metrics=[mae, mape, rmse])"
   ]
  },
  {
   "cell_type": "code",
   "execution_count": 89,
   "metadata": {},
   "outputs": [],
   "source": [
    "# Modèle LSTM\n",
    "lstm_model = Sequential([\n",
    "    Input(shape=(window_size, X_train.shape[2])),\n",
    "    LSTM(50, activation='tanh'),\n",
    "    Dense(1)\n",
    "])\n",
    "\n",
    "lstm_model.compile(optimizer='adam', loss='mse', metrics=[mae, mape, rmse])"
   ]
  },
  {
   "cell_type": "code",
   "execution_count": 90,
   "metadata": {},
   "outputs": [],
   "source": [
    "# Modèle GRU\n",
    "gru_model = Sequential([\n",
    "    Input(shape=(window_size, X_train.shape[2])),\n",
    "    GRU(50, activation='tanh'),\n",
    "    Dense(1)\n",
    "])\n",
    "\n",
    "gru_model.compile(optimizer='adam', loss='mse', metrics=[mae, mape, rmse])"
   ]
  },
  {
   "cell_type": "code",
   "execution_count": 91,
   "metadata": {},
   "outputs": [
    {
     "name": "stdout",
     "output_type": "stream",
     "text": [
      "Epoch 1/5\n",
      "\u001b[1m482/482\u001b[0m \u001b[32m━━━━━━━━━━━━━━━━━━━━\u001b[0m\u001b[37m\u001b[0m \u001b[1m8s\u001b[0m 14ms/step - loss: 0.0242 - mean_absolute_error: 0.1005 - mean_absolute_percentage_error: 102849.8750 - rmse: 0.1005\n",
      "Epoch 2/5\n",
      "\u001b[1m482/482\u001b[0m \u001b[32m━━━━━━━━━━━━━━━━━━━━\u001b[0m\u001b[37m\u001b[0m \u001b[1m7s\u001b[0m 15ms/step - loss: 0.0092 - mean_absolute_error: 0.0586 - mean_absolute_percentage_error: 25380.8379 - rmse: 0.0586\n",
      "Epoch 3/5\n",
      "\u001b[1m482/482\u001b[0m \u001b[32m━━━━━━━━━━━━━━━━━━━━\u001b[0m\u001b[37m\u001b[0m \u001b[1m8s\u001b[0m 16ms/step - loss: 0.0083 - mean_absolute_error: 0.0560 - mean_absolute_percentage_error: 28779.5645 - rmse: 0.0560\n",
      "Epoch 4/5\n",
      "\u001b[1m482/482\u001b[0m \u001b[32m━━━━━━━━━━━━━━━━━━━━\u001b[0m\u001b[37m\u001b[0m \u001b[1m8s\u001b[0m 17ms/step - loss: 0.0085 - mean_absolute_error: 0.0561 - mean_absolute_percentage_error: 25529.6230 - rmse: 0.0561\n",
      "Epoch 5/5\n",
      "\u001b[1m482/482\u001b[0m \u001b[32m━━━━━━━━━━━━━━━━━━━━\u001b[0m\u001b[37m\u001b[0m \u001b[1m8s\u001b[0m 17ms/step - loss: 0.0085 - mean_absolute_error: 0.0562 - mean_absolute_percentage_error: 36483.1445 - rmse: 0.0562\n",
      "Epoch 1/5\n",
      "\u001b[1m482/482\u001b[0m \u001b[32m━━━━━━━━━━━━━━━━━━━━\u001b[0m\u001b[37m\u001b[0m \u001b[1m22s\u001b[0m 43ms/step - loss: 0.0124 - mean_absolute_error: 0.0702 - mean_absolute_percentage_error: 31918.9062 - rmse: 0.0702\n",
      "Epoch 2/5\n",
      "\u001b[1m482/482\u001b[0m \u001b[32m━━━━━━━━━━━━━━━━━━━━\u001b[0m\u001b[37m\u001b[0m \u001b[1m17s\u001b[0m 36ms/step - loss: 0.0080 - mean_absolute_error: 0.0539 - mean_absolute_percentage_error: 10744.0156 - rmse: 0.0539\n",
      "Epoch 3/5\n",
      "\u001b[1m482/482\u001b[0m \u001b[32m━━━━━━━━━━━━━━━━━━━━\u001b[0m\u001b[37m\u001b[0m \u001b[1m18s\u001b[0m 37ms/step - loss: 0.0079 - mean_absolute_error: 0.0528 - mean_absolute_percentage_error: 38829.6602 - rmse: 0.0528\n",
      "Epoch 4/5\n",
      "\u001b[1m482/482\u001b[0m \u001b[32m━━━━━━━━━━━━━━━━━━━━\u001b[0m\u001b[37m\u001b[0m \u001b[1m18s\u001b[0m 38ms/step - loss: 0.0071 - mean_absolute_error: 0.0493 - mean_absolute_percentage_error: 34974.9141 - rmse: 0.0493\n",
      "Epoch 5/5\n",
      "\u001b[1m482/482\u001b[0m \u001b[32m━━━━━━━━━━━━━━━━━━━━\u001b[0m\u001b[37m\u001b[0m \u001b[1m17s\u001b[0m 36ms/step - loss: 0.0068 - mean_absolute_error: 0.0488 - mean_absolute_percentage_error: 29894.4746 - rmse: 0.0488\n",
      "Epoch 1/5\n",
      "\u001b[1m482/482\u001b[0m \u001b[32m━━━━━━━━━━━━━━━━━━━━\u001b[0m\u001b[37m\u001b[0m \u001b[1m23s\u001b[0m 41ms/step - loss: 0.0145 - mean_absolute_error: 0.0794 - mean_absolute_percentage_error: 11952.7256 - rmse: 0.0794\n",
      "Epoch 2/5\n",
      "\u001b[1m482/482\u001b[0m \u001b[32m━━━━━━━━━━━━━━━━━━━━\u001b[0m\u001b[37m\u001b[0m \u001b[1m22s\u001b[0m 45ms/step - loss: 0.0083 - mean_absolute_error: 0.0563 - mean_absolute_percentage_error: 21882.6035 - rmse: 0.0563\n",
      "Epoch 3/5\n",
      "\u001b[1m482/482\u001b[0m \u001b[32m━━━━━━━━━━━━━━━━━━━━\u001b[0m\u001b[37m\u001b[0m \u001b[1m19s\u001b[0m 40ms/step - loss: 0.0082 - mean_absolute_error: 0.0546 - mean_absolute_percentage_error: 37736.3086 - rmse: 0.0546\n",
      "Epoch 4/5\n",
      "\u001b[1m482/482\u001b[0m \u001b[32m━━━━━━━━━━━━━━━━━━━━\u001b[0m\u001b[37m\u001b[0m \u001b[1m20s\u001b[0m 41ms/step - loss: 0.0080 - mean_absolute_error: 0.0530 - mean_absolute_percentage_error: 27415.4961 - rmse: 0.0530\n",
      "Epoch 5/5\n",
      "\u001b[1m482/482\u001b[0m \u001b[32m━━━━━━━━━━━━━━━━━━━━\u001b[0m\u001b[37m\u001b[0m \u001b[1m21s\u001b[0m 44ms/step - loss: 0.0079 - mean_absolute_error: 0.0517 - mean_absolute_percentage_error: 17207.2207 - rmse: 0.0517\n"
     ]
    }
   ],
   "source": [
    "# Entraîner chaque modèle\n",
    "batch_size = 32\n",
    "epochs = 5\n",
    "\n",
    "history_rnn = rnn_model.fit(X_train, y_train, batch_size=batch_size, epochs=epochs)\n",
    "history_lstm = lstm_model.fit(X_train, y_train, batch_size=batch_size, epochs=epochs)\n",
    "history_gru = gru_model.fit(X_train, y_train, batch_size=batch_size, epochs=epochs)"
   ]
  },
  {
   "cell_type": "code",
   "execution_count": 108,
   "metadata": {},
   "outputs": [
    {
     "name": "stdout",
     "output_type": "stream",
     "text": [
      "(144, 39)\n"
     ]
    },
    {
     "ename": "ValueError",
     "evalue": "Exception encountered when calling Sequential.call().\n\n\u001b[1mCannot take the length of shape with unknown rank.\u001b[0m\n\nArguments received by Sequential.call():\n  • inputs=tf.Tensor(shape=<unknown>, dtype=float32)\n  • training=False\n  • mask=None",
     "output_type": "error",
     "traceback": [
      "\u001b[0;31m---------------------------------------------------------------------------\u001b[0m",
      "\u001b[0;31mValueError\u001b[0m                                Traceback (most recent call last)",
      "Cell \u001b[0;32mIn[108], line 29\u001b[0m\n\u001b[1;32m     27\u001b[0m \u001b[38;5;66;03m# Exemple de prédiction pour 100 pas de temps\u001b[39;00m\n\u001b[1;32m     28\u001b[0m initial_input \u001b[38;5;241m=\u001b[39m X_train[\u001b[38;5;241m-\u001b[39m\u001b[38;5;241m1\u001b[39m]\n\u001b[0;32m---> 29\u001b[0m predictions \u001b[38;5;241m=\u001b[39m \u001b[43mpredict_sequential\u001b[49m\u001b[43m(\u001b[49m\u001b[43mmodel\u001b[49m\u001b[38;5;241;43m=\u001b[39;49m\u001b[43mrnn_model\u001b[49m\u001b[43m,\u001b[49m\u001b[43m \u001b[49m\u001b[43mX_init\u001b[49m\u001b[38;5;241;43m=\u001b[39;49m\u001b[43minitial_input\u001b[49m\u001b[43m,\u001b[49m\u001b[43m \u001b[49m\u001b[43mdays_to_predict\u001b[49m\u001b[38;5;241;43m=\u001b[39;49m\u001b[38;5;241;43m1\u001b[39;49m\u001b[43m)\u001b[49m\n",
      "Cell \u001b[0;32mIn[108], line 18\u001b[0m, in \u001b[0;36mpredict_sequential\u001b[0;34m(model, X_init, days_to_predict)\u001b[0m\n\u001b[1;32m     16\u001b[0m \u001b[38;5;28mprint\u001b[39m(input_seq\u001b[38;5;241m.\u001b[39mshape)\n\u001b[1;32m     17\u001b[0m \u001b[38;5;66;03m# pred_day = model.predict(input_seq[np.newaxis, :, :])[0]\u001b[39;00m\n\u001b[0;32m---> 18\u001b[0m pred_day \u001b[38;5;241m=\u001b[39m \u001b[43mmodel\u001b[49m\u001b[38;5;241;43m.\u001b[39;49m\u001b[43mpredict\u001b[49m\u001b[43m(\u001b[49m\u001b[43minput_seq\u001b[49m\u001b[43m)\u001b[49m\n\u001b[1;32m     19\u001b[0m \u001b[38;5;66;03m# print(pred_day.shape)\u001b[39;00m\n\u001b[1;32m     20\u001b[0m predictions\u001b[38;5;241m.\u001b[39mappend(pred_day)\n",
      "File \u001b[0;32m~/Desktop/Fac/Master/M2/Bloc fondamental/Apprentissage sequentiel pour la prevision de series temporelles/appliances-energy-prediction/venv/lib/python3.9/site-packages/keras/src/utils/traceback_utils.py:122\u001b[0m, in \u001b[0;36mfilter_traceback.<locals>.error_handler\u001b[0;34m(*args, **kwargs)\u001b[0m\n\u001b[1;32m    119\u001b[0m     filtered_tb \u001b[38;5;241m=\u001b[39m _process_traceback_frames(e\u001b[38;5;241m.\u001b[39m__traceback__)\n\u001b[1;32m    120\u001b[0m     \u001b[38;5;66;03m# To get the full stack trace, call:\u001b[39;00m\n\u001b[1;32m    121\u001b[0m     \u001b[38;5;66;03m# `keras.config.disable_traceback_filtering()`\u001b[39;00m\n\u001b[0;32m--> 122\u001b[0m     \u001b[38;5;28;01mraise\u001b[39;00m e\u001b[38;5;241m.\u001b[39mwith_traceback(filtered_tb) \u001b[38;5;28;01mfrom\u001b[39;00m \u001b[38;5;28;01mNone\u001b[39;00m\n\u001b[1;32m    123\u001b[0m \u001b[38;5;28;01mfinally\u001b[39;00m:\n\u001b[1;32m    124\u001b[0m     \u001b[38;5;28;01mdel\u001b[39;00m filtered_tb\n",
      "File \u001b[0;32m~/Desktop/Fac/Master/M2/Bloc fondamental/Apprentissage sequentiel pour la prevision de series temporelles/appliances-energy-prediction/venv/lib/python3.9/site-packages/keras/src/utils/traceback_utils.py:122\u001b[0m, in \u001b[0;36mfilter_traceback.<locals>.error_handler\u001b[0;34m(*args, **kwargs)\u001b[0m\n\u001b[1;32m    119\u001b[0m     filtered_tb \u001b[38;5;241m=\u001b[39m _process_traceback_frames(e\u001b[38;5;241m.\u001b[39m__traceback__)\n\u001b[1;32m    120\u001b[0m     \u001b[38;5;66;03m# To get the full stack trace, call:\u001b[39;00m\n\u001b[1;32m    121\u001b[0m     \u001b[38;5;66;03m# `keras.config.disable_traceback_filtering()`\u001b[39;00m\n\u001b[0;32m--> 122\u001b[0m     \u001b[38;5;28;01mraise\u001b[39;00m e\u001b[38;5;241m.\u001b[39mwith_traceback(filtered_tb) \u001b[38;5;28;01mfrom\u001b[39;00m \u001b[38;5;28;01mNone\u001b[39;00m\n\u001b[1;32m    123\u001b[0m \u001b[38;5;28;01mfinally\u001b[39;00m:\n\u001b[1;32m    124\u001b[0m     \u001b[38;5;28;01mdel\u001b[39;00m filtered_tb\n",
      "\u001b[0;31mValueError\u001b[0m: Exception encountered when calling Sequential.call().\n\n\u001b[1mCannot take the length of shape with unknown rank.\u001b[0m\n\nArguments received by Sequential.call():\n  • inputs=tf.Tensor(shape=<unknown>, dtype=float32)\n  • training=False\n  • mask=None"
     ]
    }
   ],
   "source": [
    "# Évaluation des modèles\n",
    "# rnn_loss, rnn_mae = rnn_model.evaluate(X_test, y_test)\n",
    "# lstm_loss, lstm_mae = lstm_model.evaluate(X_test, y_test)\n",
    "# gru_loss, gru_mae = gru_model.evaluate(X_test, y_test)\n",
    "\n",
    "# print(f\"RNN Loss: {rnn_loss}, MAE: {rnn_mae}\")\n",
    "# print(f\"LSTM Loss: {lstm_loss}, MAE: {lstm_mae}\")\n",
    "# print(f\"GRU Loss: {gru_loss}, MAE: {gru_mae}\")\n",
    "\n",
    "# Prédictions séquentielles\n",
    "def predict_sequential(model, X_init, days_to_predict):\n",
    "    predictions = []\n",
    "    input_seq = X_init.copy()  # Commence avec la dernière fenêtre de l'entraînement\n",
    "    for _ in range(days_to_predict):\n",
    "        # Prédire un jour complet (144 points)\n",
    "        print(input_seq.shape)\n",
    "        # pred_day = model.predict(input_seq[np.newaxis, :, :])[0]\n",
    "        pred_day = model.predict(input_seq)\n",
    "        # print(pred_day.shape)\n",
    "        predictions.append(pred_day)\n",
    "        \n",
    "        # Met à jour la séquence en décalant et ajoutant les 144 prédictions\n",
    "        input_seq = np.roll(input_seq, -144, axis=0)  # Décale la séquence de 144 points\n",
    "        input_seq[-144:] = pred_day  # Remplace les derniers points par les prédictions\n",
    "    return np.array(predictions)\n",
    "\n",
    "# Exemple de prédiction pour 100 pas de temps\n",
    "initial_input = X_train[-1]\n",
    "predictions = predict_sequential(model=rnn_model, X_init=initial_input, days_to_predict=1)"
   ]
  },
  {
   "cell_type": "code",
   "execution_count": 100,
   "metadata": {},
   "outputs": [
    {
     "data": {
      "text/plain": [
       "10"
      ]
     },
     "execution_count": 100,
     "metadata": {},
     "output_type": "execute_result"
    }
   ],
   "source": [
    "len(predictions)"
   ]
  },
  {
   "cell_type": "code",
   "execution_count": 103,
   "metadata": {},
   "outputs": [
    {
     "data": {
      "text/plain": [
       "array([0.00934579])"
      ]
     },
     "execution_count": 103,
     "metadata": {},
     "output_type": "execute_result"
    }
   ],
   "source": [
    "min(y_test)\n",
    "max(np.abs(y_test - y_p)"
   ]
  }
 ],
 "metadata": {
  "kernelspec": {
   "display_name": "venv",
   "language": "python",
   "name": "python3"
  },
  "language_info": {
   "codemirror_mode": {
    "name": "ipython",
    "version": 3
   },
   "file_extension": ".py",
   "mimetype": "text/x-python",
   "name": "python",
   "nbconvert_exporter": "python",
   "pygments_lexer": "ipython3",
   "version": "3.9.6"
  }
 },
 "nbformat": 4,
 "nbformat_minor": 2
}
