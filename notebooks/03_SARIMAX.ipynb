{
 "cells": [
  {
   "cell_type": "markdown",
   "metadata": {},
   "source": [
    "<hr style=\"margin-bottom: 50px;\">\n",
    "<center>\n",
    "    <h1 style=\"margin-top: 0; margin-bottom: 0;\">\n",
    "        <b><u>Modélisation : SARIMAX</u></b>\n",
    "    </h1>\n",
    "</center>\n",
    "<hr style=\"margin-top: 50px;\">"
   ]
  },
  {
   "cell_type": "markdown",
   "metadata": {},
   "source": [
    "# <b>1. Configuration du notebook"
   ]
  },
  {
   "cell_type": "code",
   "execution_count": 1,
   "metadata": {},
   "outputs": [
    {
     "name": "stdout",
     "output_type": "stream",
     "text": [
      "/Users/lucascaio/Desktop/Fac/Master/M2/2. Bloc fondamental/Apprentissage sequentiel pour la prevision de series temporelles/appliances-energy-prediction/notebooks\n"
     ]
    }
   ],
   "source": [
    "# Imports des modules du projet\n",
    "import config, src\n",
    "\n",
    "# Imports classiques\n",
    "import numpy as np\n",
    "import pandas as pd\n",
    "\n",
    "# Imports de scikit-learn\n",
    "from sklearn.linear_model import ElasticNet\n",
    "from sklearn.linear_model import LinearRegression\n",
    "from sklearn.model_selection import train_test_split\n",
    "\n",
    "# Imports de statsmodels\n",
    "from statsmodels.tsa.arima.model import ARIMA\n",
    "\n",
    "# Imports pour la visualisation\n",
    "import plotly.graph_objects as go"
   ]
  },
  {
   "cell_type": "code",
   "execution_count": 2,
   "metadata": {},
   "outputs": [
    {
     "name": "stdout",
     "output_type": "stream",
     "text": [
      "Données chargées avec succès.\n"
     ]
    }
   ],
   "source": [
    "# Chargement des données prétraitées\n",
    "data = src.load_data(config.PROCESSED_DATA_FILE)\n",
    "\n",
    "# Conversion des données au format datetime\n",
    "data['Date'] = pd.to_datetime(data['Date'])\n",
    "\n",
    "# Utilisation des dates comme index\n",
    "data.set_index('Date', inplace=True)"
   ]
  },
  {
   "cell_type": "code",
   "execution_count": 3,
   "metadata": {},
   "outputs": [
    {
     "data": {
      "text/plain": [
       "array([1. , 0.5, 0.5, 5. , 7. ])"
      ]
     },
     "execution_count": 3,
     "metadata": {},
     "output_type": "execute_result"
    }
   ],
   "source": [
    "def borne_min(array, valeur_borne):\n",
    "    return (array >= valeur_borne) * array + (array <= valeur_borne) * valeur_borne\n",
    "\n",
    "borne_min(np.array([1, 0, -2, 5, 7]), 0.5)"
   ]
  },
  {
   "cell_type": "code",
   "execution_count": 5,
   "metadata": {},
   "outputs": [],
   "source": [
    "t = np.arange(len(data))\n",
    "\n",
    "X = pd.DataFrame({\"Temps\": t,\"Sin_day\": np.sin((2*np.pi*(t))/144),\"intercept\": np.ones((len(data),))})\n",
    "\n",
    "variables_explicatives_list = data.columns.drop('Energy')\n",
    "\n",
    "for j in range(24):\n",
    "    X[f'is_{j+1}th_hour'] = (data.index.hour == j).astype(int)\n",
    "        \n",
    "for j in range(7):    \n",
    "    X[f'is_{j+1}th_day'] = (data.index.day == j).astype(int)\n",
    "\n",
    "\n",
    "X[variables_explicatives_list] = data[variables_explicatives_list].copy().to_numpy()\n",
    "\n",
    "y = data[\"Energy\"].copy()\n",
    "\n",
    "train_index = (data.index <= \"2016-04-27 18:00:00\").sum()\n"
   ]
  },
  {
   "cell_type": "code",
   "execution_count": 11,
   "metadata": {},
   "outputs": [
    {
     "data": {
      "text/plain": [
       "Index(['Temps', 'Sin_day', 'intercept', 'is_1th_hour', 'is_2th_hour',\n",
       "       'is_3th_hour', 'is_4th_hour', 'is_5th_hour', 'is_6th_hour',\n",
       "       'is_7th_hour', 'is_8th_hour', 'is_9th_hour', 'is_10th_hour',\n",
       "       'is_11th_hour', 'is_12th_hour', 'is_13th_hour', 'is_14th_hour',\n",
       "       'is_15th_hour', 'is_16th_hour', 'is_17th_hour', 'is_18th_hour',\n",
       "       'is_19th_hour', 'is_20th_hour', 'is_21th_hour', 'is_22th_hour',\n",
       "       'is_23th_hour', 'is_24th_hour', 'is_1th_day', 'is_2th_day',\n",
       "       'is_3th_day', 'is_4th_day', 'is_5th_day', 'is_6th_day', 'is_7th_day',\n",
       "       'Lights', 'Kitchen_T', 'Kitchen_H', 'Living_T', 'Living_H', 'Laundry_T',\n",
       "       'Laundry_H', 'Office_T', 'Office_H', 'Bath_T', 'Bath_H', 'Outside_T',\n",
       "       'Outside_H', 'Ironing_T', 'Ironing_H', 'TeenRoom_T', 'TeenRoom_H',\n",
       "       'ParentsRoom_T', 'ParentsRoom_H', 'Weather_T', 'Weather_P', 'Weather_H',\n",
       "       'Weather_WindSpeed', 'Weather_Visibility', 'Weather_Dewpoint', 'monday',\n",
       "       'tuesday', 'wednesday', 'thursday', 'friday', 'saturday', 'sunday',\n",
       "       'sin_hour', 'cos_hour', 'is_holiday', 'is_school_holiday', 'season'],\n",
       "      dtype='object')"
      ]
     },
     "execution_count": 11,
     "metadata": {},
     "output_type": "execute_result"
    }
   ],
   "source": [
    "X.columns"
   ]
  },
  {
   "cell_type": "code",
   "execution_count": 12,
   "metadata": {},
   "outputs": [
    {
     "data": {
      "text/plain": [
       "0        0.000000\n",
       "1        0.043619\n",
       "2        0.087156\n",
       "3        0.130526\n",
       "4        0.173648\n",
       "           ...   \n",
       "19730    0.087156\n",
       "19731    0.130526\n",
       "19732    0.173648\n",
       "19733    0.216440\n",
       "19734    0.258819\n",
       "Name: Sin_day, Length: 19735, dtype: float64"
      ]
     },
     "execution_count": 12,
     "metadata": {},
     "output_type": "execute_result"
    }
   ],
   "source": [
    "X['Sin_day']"
   ]
  },
  {
   "cell_type": "code",
   "execution_count": 5,
   "metadata": {},
   "outputs": [],
   "source": [
    "def mape(y_test,y_pred):\n",
    "    return np.mean(np.abs((y_test-y_pred)/y_test))\n",
    "\n",
    "def rmse(y_test,y_pred):\n",
    "    return np.mean((y_test-y_pred)**2)**0.5\n",
    "\n",
    "\n",
    "def plot_model(model=\"Linear\",l1_ratio=0.5,alpha=1):\n",
    "    if model not in [\"Linear\",\"Elastic_net\"]:\n",
    "        raise ValueError(\"If have to choose either 'Linear' or 'Elastic_net'\")\n",
    "    \n",
    "\n",
    "    X_train, X_test, y_train, y_test = train_test_split(X, y, test_size=0.33, shuffle=False)\n",
    "    \n",
    "    if model == \"Linear\":\n",
    "        model1 = LinearRegression()\n",
    "        model1.fit(X_train,y_train)\n",
    "\n",
    "    elif model == \"Elastic_net\":\n",
    "        model1 = ElasticNet(l1_ratio=l1_ratio,alpha=alpha)\n",
    "        model1.fit(X_train,y_train)\n",
    "\n",
    "    y_pred = borne_min(model1.predict(X_test),np.min(X_train))\n",
    "\n",
    "    print(f\"Le MAPE est {mape(y_test.to_numpy(),y_pred)}\")\n",
    "    print(f\"Le RMSE est {rmse(y_test.to_numpy(),y_pred)}\")\n",
    "\n",
    "    if model == \"Elastic_net\":\n",
    "        fig = go.Figure()\n",
    "\n",
    "# Add the second line\n",
    "        fig.add_trace(go.Scatter(x=data.index[:len(y_pred)], y=y_test, mode='lines', name='Test'))\n",
    "\n",
    "# Add the first line\n",
    "        fig.add_trace(go.Scatter(x=data.index[:len(y_pred)], y=y_pred, mode='lines', name='Prédiction'))\n",
    "\n",
    "# Customize layout\n",
    "        fig.update_layout(\n",
    "        title=f\"Prédiction {model}\\n avec l1 = {l1_ratio} et alpha = {alpha}\",\n",
    "        xaxis_title=\"X-axis Label\",\n",
    "        yaxis_title=\"Y-axis Label\",\n",
    "        legend_title=\"Legend\",\n",
    "        template=\"plotly_white\")\n",
    "\n",
    "# Show the plot\n",
    "        fig.show()\n",
    "\n",
    "\n",
    "    else:\n",
    "        fig = go.Figure()\n",
    "\n",
    "# Add the second line\n",
    "        fig.add_trace(go.Scatter(x=data.index[:len(y_pred)], y=y_test, mode='lines', name='Test'))\n",
    "\n",
    "# Add the first line\n",
    "        fig.add_trace(go.Scatter(x=data.index[:len(y_pred)], y=y_pred, mode='lines', name='Prédiction'))\n",
    "\n",
    "# Customize layout\n",
    "        fig.update_layout(\n",
    "        title=f\"Prédiction {model}\",\n",
    "        xaxis_title=\"X-axis Label\",\n",
    "        yaxis_title=\"Y-axis Label\",\n",
    "        legend_title=\"Legend\",\n",
    "        template=\"plotly_white\")\n",
    "\n",
    "# Show the plot\n",
    "        fig.show()\n",
    "\n",
    "        return y_pred    \n"
   ]
  },
  {
   "cell_type": "code",
   "execution_count": 6,
   "metadata": {},
   "outputs": [],
   "source": [
    "def plot_online_model(model=\"Linear\",l1_ratio=0.5,alpha=1,figure = True, arma_resid = False, order = (0,0,0), seasonnal_order = (0,0,0,0)):\n",
    "\n",
    "    if model not in [\"Linear\",\"Elastic_net\"]:\n",
    "        raise ValueError(\"If have to choose either 'Linear' or 'Elastic_net'\")\n",
    "\n",
    "    step = 144 \n",
    "    days = 1 \n",
    "    total_steps = step * days\n",
    "    \n",
    "    \n",
    "    y_pred = []\n",
    "    \n",
    "    for j in range(0, len(data) - train_index, total_steps):\n",
    "        X_train, y_train = X.iloc[:train_index + j], y[:train_index + j]\n",
    "        X_test = X.iloc[train_index + j:train_index + j + total_steps]\n",
    "            \n",
    "        model1 = ElasticNet(l1_ratio=l1_ratio, alpha=alpha) if model == \"Elastic_net\" else LinearRegression()\n",
    "        model1.fit(X_train, y_train)\n",
    "\n",
    "        y_train_pred = model1.predict(X_train)\n",
    "        \n",
    "        y_test_pred = model1.predict(X_test)\n",
    "\n",
    "        if arma_resid:\n",
    "            print('test')\n",
    "            # Calculate residuals for the training set\n",
    "            residuals = y_train - y_train_pred\n",
    "\n",
    "            # Fit ARMA to the residuals\n",
    "            arma_model = ARIMA(residuals, order=order, seasonal_order=seasonnal_order).fit()\n",
    "\n",
    "            # Predict residuals for the test set\n",
    "            residuals_pred = arma_model.forecast(steps=len(X_test))\n",
    "\n",
    "            # Add predicted residuals to the main model's predictions\n",
    "            y_test_pred += residuals_pred\n",
    "\n",
    "        # Clip or adjust predictions as needed\n",
    "        y_pred.append(borne_min(y_test_pred, np.min(y_train)))\n",
    "\n",
    "    y_pred = np.hstack(y_pred)\n",
    "\n",
    "    print(f\"Le MAPE est {mape(y[train_index:train_index+len(y_pred)],y_pred)}\")\n",
    "    print(f\"Le RMSE est {rmse(y_pred,y[train_index:train_index+len(y_pred)])}\")\n",
    "\n",
    "    if figure == True:\n",
    "        fig = go.Figure()\n",
    "\n",
    "# Add the second line\n",
    "        fig.add_trace(go.Scatter(x=data.index[train_index:train_index+len(y_pred)], y=y[train_index:train_index+len(y_pred)], mode='lines', name='Test'))\n",
    "\n",
    "# Add the first line\n",
    "        fig.add_trace(go.Scatter(x=data.index[train_index:train_index+len(y_pred)], y=y_pred, mode='lines', name='Prédiction'))\n",
    "\n",
    "# Customize layout\n",
    "        fig.update_layout(\n",
    "title=f\"Prédiction {model}\",\n",
    "xaxis_title=\"X-axis Label\",\n",
    "yaxis_title=\"Y-axis Label\",\n",
    "legend_title=\"Legend\",\n",
    "template=\"plotly_white\")\n",
    "\n",
    "# Show the plot\n",
    "        fig.show()  \n",
    "\n",
    "    return y_pred"
   ]
  },
  {
   "cell_type": "markdown",
   "metadata": {},
   "source": [
    "On cherche les contraintes l1 l2 optimale sur la base de données d'entrainements:"
   ]
  },
  {
   "cell_type": "code",
   "execution_count": null,
   "metadata": {},
   "outputs": [],
   "source": [
    "from sklearn.model_selection import TimeSeriesSplit, RandomizedSearchCV\n",
    "\n",
    "train_index = (data.index <= \"2016-04-27 18:00:00\").sum()\n",
    "X_train, y_train = X.iloc[:train_index], y[:train_index]\n",
    "# Elastic Net model\n",
    "model = ElasticNet(random_state=42)\n",
    "\n",
    "# Hyperparameter grid\n",
    "param_distributions = {\n",
    "    \"alpha\": np.logspace(-4, 1, 50),  # Regularization strength\n",
    "    \"l1_ratio\": np.linspace(0, 1, 50),  # Mix of L1 and L2 regularization\n",
    "}\n",
    "\n",
    "# Define TimeSeriesSplit\n",
    "tscv = TimeSeriesSplit(n_splits=5)\n",
    "\n",
    "# Randomized search\n",
    "random_search = RandomizedSearchCV(\n",
    "    estimator=model,\n",
    "    param_distributions=param_distributions,\n",
    "    n_iter=125,  # Number of random combinations\n",
    "    scoring=\"neg_mean_squared_error\",  # Metric\n",
    "    cv=tscv,  # Sequential cross-validation\n",
    "    random_state=42,\n",
    "    n_jobs=-1\n",
    ")\n",
    "\n",
    "# Fit the model\n",
    "random_search.fit(X_train, y_train)\n",
    "\n",
    "# Best parameters\n",
    "print(\"Best Parameters:\", random_search.best_params_)"
   ]
  },
  {
   "cell_type": "code",
   "execution_count": null,
   "metadata": {},
   "outputs": [],
   "source": [
    "from itertools import product\n",
    "\n",
    "# Grille pour (p, d, q)\n",
    "p = range(0, 4)  # Ordre AR\n",
    "d = range(0, 2)  # Ordre de différenciation\n",
    "q = range(0, 4)  # Ordre MA\n",
    "order_grid = list(product(p, d, q))\n",
    "\n",
    "P = range(0, 2)\n",
    "D = range(0, 2)\n",
    "Q = range(0, 2)\n",
    "S = [144]  # Périodicité saisonnière (par exemple, mensuelle)\n",
    "\n",
    "seasonal_order_grid = list(product(P, D, Q, S))\n",
    "\n",
    "def optimize_aic_sarima(residuals, order_grid, seasonal_order_grid):\n",
    "    best_order = None\n",
    "    best_seasonal_order = None\n",
    "    best_aic = float(\"inf\")\n",
    "\n",
    "    for order in order_grid:\n",
    "        for seasonal_order in seasonal_order_grid:\n",
    "            try:\n",
    "                # Ajuster le modèle SARIMA\n",
    "                sarima_model = ARIMA(residuals, order=order, seasonal_order=seasonal_order).fit()\n",
    "                aic = sarima_model.aic\n",
    "                if aic < best_aic:\n",
    "                    best_aic = aic\n",
    "                    best_order = order\n",
    "                    best_seasonal_order = seasonal_order\n",
    "            except Exception as e:\n",
    "                continue\n",
    "\n",
    "    return best_order, best_seasonal_order, best_aic\n",
    "\n",
    "# Calculer les résidus Elastic Net\n",
    "residuals = y_train - random_search.best_estimator_.predict(X_train)\n",
    "\n",
    "# Optimiser l'AIC\n",
    "best_order, best_aic = optimize_aic_sarima(residuals, order_grid, seasonal_order_grid)\n",
    "\n",
    "print(\"Best ARMA Order:\", best_order)\n",
    "print(\"Best AIC:\", best_aic)\n"
   ]
  },
  {
   "cell_type": "code",
   "execution_count": null,
   "metadata": {},
   "outputs": [],
   "source": [
    "plot_online_model(model=\"Elastic_net\",l1_ratio=0.9591836734693877,alpha=0.3727593720314942)"
   ]
  },
  {
   "cell_type": "code",
   "execution_count": null,
   "metadata": {},
   "outputs": [],
   "source": [
    "plot_online_model(model=\"Elastic_net\",l1_ratio=0.9591836734693877,alpha=0.3727593720314942,figure = True, arma_resid = True, order = (1,1,1), seasonnal_order = (1,0,1,14))"
   ]
  }
 ],
 "metadata": {
  "kernelspec": {
   "display_name": "venv",
   "language": "python",
   "name": "python3"
  },
  "language_info": {
   "codemirror_mode": {
    "name": "ipython",
    "version": 3
   },
   "file_extension": ".py",
   "mimetype": "text/x-python",
   "name": "python",
   "nbconvert_exporter": "python",
   "pygments_lexer": "ipython3",
   "version": "3.9.6"
  }
 },
 "nbformat": 4,
 "nbformat_minor": 2
}
